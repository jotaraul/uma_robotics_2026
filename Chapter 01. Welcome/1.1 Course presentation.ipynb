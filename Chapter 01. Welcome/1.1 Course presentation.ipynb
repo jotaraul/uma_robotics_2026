{
 "cells": [
  {
   "cell_type": "markdown",
   "id": "81c6136d-99bc-45ba-ba8e-2c9e3b9493b9",
   "metadata": {
    "tags": []
   },
   "source": [
    "# An introduction to the (uncertain) world of mobile robots \n",
    "\n",
    "A **mobile robot** 🤖 is a device equipped with locomotion and sensory systems designed to perform tasks autonomously or in collaboration with humans. During operation, the robot must localize itself within the environment, navigate safely through it, and make decisions based on past, present, and in some cases, predicted future data. It may sound straightforward, but there is an undesired companion in this party: **uncertainty**.\n",
    "\n",
    "<figure style=\"text-align:center\">\n",
    "  <img src=\"./images/dall-e_course_presentation.png\" width=\"600\">\n",
    "</figure> \n",
    "\n",
    "There are various sources of uncertainty. For example, when the robot moves through its environment, it follows a series of **motion commands**. For instance, the command could be to move at a linear speed of 0.1 m/s for five seconds. In theory, after completing this motion, the robot should have moved half a meter in a straight line. However, the actual movement is affected by multiple factors: motor response, initial wheels orientation, floor type, wheel pressure, slipping, etc. Therefore, the robot may not move exactly that distance but rather something close to it, like 0.45 m or 0.53 m. The following image depicts this.\n",
    "\n",
    "<figure style=\"text-align:center\">\n",
    "  <img src=\"./images/ideal_and_true_path.png\" width=\"450\">\n",
    "  <figcaption>Fig. 1: Example of ideal (red) and true (blue) paths followed by a robot, represented by its intermediate poses.</figcaption>\n",
    "</figure> \n",
    "\n",
    "In practice, this means that although the motion commands give a good indication of how far the robot has moved, additional information and algorithms are required to refine this estimation. Accurate motion estimation is critical for proper localization and navigation in the workspace."
   ]
  },
  {
   "cell_type": "markdown",
   "id": "c57850fc-a50a-41a8-b261-07771b6a6614",
   "metadata": {
    "tags": []
   },
   "source": [
    "Another strong source of information comes from the **sensors** used to perceive the environment. These sensors work in the basis of different physical phenomena which are also influenced by environmental conditions. A clear example of this are laser scanners, which work by projecting an infrared beam and calculate distances to obstacles by measuring the time that the beam takes to come back to the sensor after bouncing on them. This working principle is influenced by factors like the physical properties of objects (color, surface type, etc.), environmental conditions like lighting, humidity, temperature, etc., the performance of the sensor electronics, etc. This way, if an obstacle is placed two meters away of the sensor, instead of delivering a measure of 2m, it will probably returns 1.9m, 2.15m, etc. This accuracy also depends on the sensor quality. The following figure illustrates this scenario.\n",
    "\n",
    "<figure style=\"text-align:center\">\n",
    "  <img src=\"./images/laser_measurement_without_noise.png\" width=\"300\"><img src=\"./images/laser_measurement_with_noise.png\" width=\"300\">\n",
    "  <figcaption>Fig. 2: Left, example of a robot using an ideal laser to take measurements of the environment. Right, the same robot using a real laser.</figcaption>\n",
    "</figure> \n",
    "\n",
    "Sensors are useful so the robot can be aware of its surroundings, and help in tasks like localization, navigation, object detection, etc. This way, their uncertain behavior must be also considered in the algorithms commanding the robot."
   ]
  },
  {
   "cell_type": "markdown",
   "id": "1294d373-8af3-4924-8943-8051616c970b",
   "metadata": {
    "tags": []
   },
   "source": [
    "Other sources of uncertainty could be:\n",
    "- **Model uncertainty** refers to inaccuracies in the mathematical models used to represent the robot's motion or environment. These models are often simplifications of reality and might not account for all physical effects like drag, friction, or dynamic interactions with the environment. \n",
    "- **Environmental uncertainty** is also present, since the environment itself can be unpredictable. Objects can move, lighting conditions can change, or obstacles can appear unexpectedly. Dynamic environments, such as crowded areas, introduce uncertainties that are hard to predict or model. \n",
    "- **Computational Uncertainty** arises since the performance of the robot's algorithms can be influenced by limited processing power or delayed computation, especially in real-time systems. These delays can lead to outdated information being used in decision-making.\n",
    "\n",
    "In summary, the perception and operation of a mobile robot are heavily influenced by various sources of uncertainty. These uncertainties must be carefully considered to ensure the robot can successfully accomplish its tasks. **This course** will explore **core concepts** from statistics (Gaussian distributions, Bayes' rule, etc.), mathematics (matrix operations, Jacobians, etc.), and computer science (functions, algorithms, software architectures) to model uncertainty and understand mobile robot operation, mainly its localization and navigation. Cool, isn't? 😎"
   ]
  }
 ],
 "metadata": {
  "kernelspec": {
   "display_name": "Python 3 (ipykernel)",
   "language": "python",
   "name": "python3"
  },
  "language_info": {
   "codemirror_mode": {
    "name": "ipython",
    "version": 3
   },
   "file_extension": ".py",
   "mimetype": "text/x-python",
   "name": "python",
   "nbconvert_exporter": "python",
   "pygments_lexer": "ipython3",
   "version": "3.10.7"
  }
 },
 "nbformat": 4,
 "nbformat_minor": 5
}
