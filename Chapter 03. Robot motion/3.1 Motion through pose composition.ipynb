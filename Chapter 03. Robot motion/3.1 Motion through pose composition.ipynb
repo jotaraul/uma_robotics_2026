{
 "cells": [
  {
   "cell_type": "markdown",
   "metadata": {},
   "source": [
    "# 3.1 Motion through pose composition\n",
    "\n",
    "A fundamental aspect of the development of mobile robots is the motion itself. In an idyllic world, motion commands are sent to the robot locomotion system, which perfectly executes them and drives the robot to a desired location. However, this is not a trivial matter, as many sources of motion error appear: \n",
    "- wheel slippage, \n",
    "- inaccurate calibration,\n",
    "- temporal response of motors,\n",
    "- limited resolution during integration (time increments, measurement resolution), or\n",
    "- unequal floor, among others.\n",
    "\n",
    "These factors introduce uncertainty in the robot motion. Additionally, other constraints to the movement difficult its implementation. \n",
    "\n",
    "After executing a motion command, the robot would end up in a different position/orientation from the initial one. This particular chapter explores the concept of *robot's pose* used to represent these positions/orientations, and how we deal with it in a probabilistic context.\n",
    "\n",
    "The pose itself can take multiple forms depending on the problem context:\n",
    "\n",
    "- **2D location**: In a planar context we only need to a 2d vector $[x, y]^T$ to locate a robot against a point of reference, the origin $(0, 0).$\n",
    "- **2D pose**: In most cases involving mobile robots, the location alone is insufficient. We need an additional parameter known as orientation or *bearing*. Therefore, a robot's pose is usually expressed as $[x, y, \\theta]^T$ (see Fig. 1). *In the rest of the book, we mostly refer to this one.*\n",
    "- **3D pose**: Although we will only mention it in passing, for robotics applications in the 3D space, *i.e.* UAV or drones, not only a third axis $z$ is added, but to handle the orientation in a 3D environment we need 3 components, *i.e.* roll, pitch and yaw. This course is centered around planar mobile robots so we will not use this one, nevertheless most methods could be adapted to 3D environments.\n",
    "\n",
    "In this chapter we will explore how to use the **composition of poses** to express poses in a certain reference system, while the next two chapters describe two probabilistic methods for dealing with the uncertainty inherent to robot motion, namely the **velocity-based** motion model and the **odometry-based** one. "
   ]
  },
  {
   "cell_type": "markdown",
   "metadata": {},
   "source": [
    "# Notebook context: move that robot!\n",
    "\n",
    "The figure below shows a Giraff robot, equipped with a rig of RGB-D sensors and a 2D laser scanners. The robot is gathering information from said sensors to collect a dataset. Datasets are useful to train and test new techniques for navigation, perception, etc. However, if the robot remains static, the dataset will only contain information about the part of the room that it is currently inspecting, so, we need to move it!\n",
    "\n",
    "<figure style=\"text-align:center\">\n",
    "  <img src=\"images/robot_giraff_mapir.jpg\" alt=\"\" width=\"400px\">\n",
    "</figure>\n",
    "\n",
    "Your task in this notebook will be to command the robot to move through the environment and calculate its new position after executing a motion command. Let's go!"
   ]
  },
  {
   "cell_type": "code",
   "execution_count": 1,
   "metadata": {},
   "outputs": [],
   "source": [
    "%matplotlib widget\n",
    "\n",
    "# IMPORTS\n",
    "\n",
    "import numpy as np\n",
    "import matplotlib.pyplot as plt\n",
    "from scipy import stats\n",
    "from IPython.display import display, clear_output\n",
    "import time\n",
    "\n",
    "import sys\n",
    "sys.path.append(\"..\")\n",
    "from utils.DrawRobot import DrawRobot\n",
    "from utils.tcomp import tcomp"
   ]
  },
  {
   "cell_type": "markdown",
   "metadata": {},
   "source": [
    "## <span style=\"color:green\">OPTIONAL</span>\n",
    "\n",
    "<span style=\"color:green\">In the Robot motion lecture, we started talking about *Differential drive* motion systems. Include as many cells as needed to introduce the background that you find interesting about it and some code illustrating some related aspect, for example, a code computing and plotting the *Instantaneus Center of Rotation (ICR)* according to a number of given parameters.</span>"
   ]
  },
  {
   "cell_type": "markdown",
   "metadata": {},
   "source": [
    "<span style=\"color:green\">***END OF OPTIONAL PART***</span>"
   ]
  },
  {
   "cell_type": "markdown",
   "metadata": {},
   "source": [
    "## 3.1 Pose composition <a id=\"pose_composition\"></a>\n",
    "\n",
    "The composition of posses is a tool that permits us to express the *final* pose of a robot in an arbitrary coordinate system. Given an initial pose $p_1$ and a pose differential $\\Delta p$ (pose increment), *i.e.* how much the robot has moved during an interval of time, the final pose $p$ can be computed using the **composition of poses** function (see Fig.1):\n",
    "\n",
    "$$\n",
    "    p_1 = \n",
    "        \\begin{bmatrix}\n",
    "            x_1 \\\\ y_1 \\\\ \\theta_1\n",
    "        \\end{bmatrix}, \\, \\, \\,\n",
    "    \\Delta p = \n",
    "        \\begin{bmatrix}\n",
    "            \\Delta x \\\\ \\Delta y \\\\ \\Delta \\theta\n",
    "        \\end{bmatrix}\n",
    "$$\n",
    "\n",
    "$$\n",
    "    \\begin{equation}\n",
    "    p_2 = \\begin{bmatrix}\n",
    "            x \\\\ y \\\\ \\theta\n",
    "        \\end{bmatrix}\n",
    "        = p_1 \\oplus \\Delta p\n",
    "        = \\begin{bmatrix}\n",
    "            x_1 + \\Delta x \\cos \\theta_1 - \\Delta y \\sin \\theta_1 \\\\ \n",
    "            y_1 + \\Delta x \\sin \\theta_1 + \\Delta y \\cos \\theta_1 \\\\\n",
    "            \\theta_1 + \\Delta \\theta\n",
    "          \\end{bmatrix}\n",
    "    \\end{equation}\n",
    "$$\n",
    "\n",
    "<figure style=\"text-align:center\">\n",
    "  <img src=\"images/pose-composition.png\" alt=\"\" width=\"400px\">\n",
    "  <figcaption>Fig. 1: Example of an initial 2D robot pose ($p_1$) and its resultant pose ($p_2$) after completing a motion ($\\Delta p$).</figcaption>\n",
    "</figure>\n",
    "\n",
    "The differential $\\Delta p$, although we are using it as control in this exercise, normally is calculated given the robot's locomotion or sensed by the wheel encoders.\n",
    "\n",
    "You are provided with a function called `pose_2 = tcomp(pose_1,u)` that apply the composition of poses to pose `pose_1`and pose increment `u` and returns the new pose `pose_2`. Below you have a code cell to play with it."
   ]
  },
  {
   "cell_type": "code",
   "execution_count": 2,
   "metadata": {},
   "outputs": [
    {
     "name": "stdout",
     "output_type": "stream",
     "text": [
      "Initial pose: [[0]\n",
      " [0]\n",
      " [0]]\n",
      "Pose increment: [[2.        ]\n",
      " [2.        ]\n",
      " [1.57079633]]\n",
      "New pose after applying tcomp: [[2.        ]\n",
      " [2.        ]\n",
      " [1.57079633]]\n"
     ]
    },
    {
     "data": {
      "application/vnd.jupyter.widget-view+json": {
       "model_id": "ad1d383f9b9848a6bf415d4cf24b2ab7",
       "version_major": 2,
       "version_minor": 0
      },
      "image/png": "[encoded data removed]",
      "text/html": [
       "\n",
       "            <div style=\"display: inline-block;\">\n",
       "                <div class=\"jupyter-widgets widget-label\" style=\"text-align: center;\">\n",
       "                    Figure\n",
       "                </div>\n",
       "                <img src='data:image/png;base64,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' width=640.0/>\n",
       "            </div>\n",
       "        "
      ],
      "text/plain": [
       "Canvas(toolbar=Toolbar(toolitems=[('Home', 'Reset original view', 'home', 'home'), ('Back', 'Back to previous …"
      ]
     },
     "metadata": {},
     "output_type": "display_data"
    }
   ],
   "source": [
    "# Pose increments' playground!\n",
    "\n",
    "# You can modify pose and increment here to experiment\n",
    "pose_1 = np.vstack([0, 0, 0])  # Initial pose \n",
    "u = np.vstack([2, 2, np.pi/2])  # Pose increment \n",
    "pose_2 = tcomp(pose_1, u) # Pose after executing the motion\n",
    "\n",
    "# NUMERICAL RESULTS\n",
    "print(f\"Initial pose: {pose_1}\")\n",
    "print(f\"Pose increment: {u}\")\n",
    "print(f\"New pose after applying tcomp: {pose_2}\")\n",
    "\n",
    "# VISUALIZATION\n",
    "fig, ax = plt.subplots()\n",
    "plt.grid('on')\n",
    "plt.xlim((-2, 10))\n",
    "plt.ylim((-2, 10))\n",
    "h1 = DrawRobot(fig, ax, pose_1);\n",
    "h2 = DrawRobot(fig, ax, pose_2, color='blue')\n",
    "plt.legend([h1[0],h2[0]],['pose_1','pose_2']);"
   ]
  },
  {
   "cell_type": "markdown",
   "metadata": {},
   "source": [
    "## <span style=\"color:green\">OPTIONAL</span>\n",
    "\n",
    "<span style=\"color:green\">Implement your own methods to compute the composition of two poses, as well as the inverse composition. Include some examples of their utilization, also incorporating plots.</span>"
   ]
  },
  {
   "cell_type": "markdown",
   "metadata": {},
   "source": [
    "<span style=\"color:green\">***END OF OPTIONAL PART***</span>"
   ]
  },
  {
   "cell_type": "markdown",
   "metadata": {},
   "source": [
    "### **<span style=\"color:green\"><b><i>ASSIGNMENT 1: Moving the robot by composing pose increments</i></b></span>**\n",
    "\n",
    "Take a look at the `Robot()` class provided and its methods: the constructor, `step()` and `draw()`. Then, modify the main function in the next cell for the robot to describe a $8m \\times 8m$ square path as seen in the figure below. You must take into account that:\n",
    "\n",
    "- The robot starts in the bottom-left corner $(0, 0)$ heading north and \n",
    "- moves at increments of $2 m$ each step. \n",
    "- Each 4 steps, it will turn right.\n",
    "\n",
    "**Example**\n",
    "\n",
    "\n",
    "<figure style=\"text-align:center\">\n",
    "  <img src=\"images/fig3-1-1.png\" alt=\"\">\n",
    "  <figcaption>Fig. 2: Route of our robot.</figcaption>\n",
    "</figure>"
   ]
  },
  {
   "cell_type": "code",
   "execution_count": null,
   "metadata": {},
   "outputs": [],
   "source": [
    "class Robot():\n",
    "    '''Mobile robot implementation\n",
    "    \n",
    "        Attr:\n",
    "            pose: Expected position of the robot\n",
    "    '''\n",
    "    def __init__(self, mean):\n",
    "        self.pose = mean\n",
    "\n",
    "    def step(self, u):\n",
    "        self.pose = tcomp(self.pose, u)\n",
    "    \n",
    "    def draw(self, fig, ax):\n",
    "        DrawRobot(fig, ax, self.pose)"
   ]
  },
  {
   "cell_type": "code",
   "execution_count": null,
   "metadata": {},
   "outputs": [],
   "source": [
    "def main(robot):\n",
    "    \n",
    "    # PARAMETERS INITIALIZATION\n",
    "    num_steps = 15 # Number of robot motions\n",
    "    turning = 4  # Number of steps for turning\n",
    "    u = np.vstack([2., 0., 0.]) # Motion command (pose increment)\n",
    "    angle_inc = -np.pi/2 # Angle increment\n",
    "    \n",
    "    # VISUALIZATION\n",
    "    fig, ax = plt.subplots()\n",
    "    plt.ion()\n",
    "    plt.draw()\n",
    "    plt.xlim((-2, 10))\n",
    "    plt.ylim((-2, 10))\n",
    "    plt.fill([2, 2, 6, 6],[2, 6, 6, 2],facecolor='lightgray', edgecolor='gray', linewidth=3)\n",
    "    \n",
    "    plt.grid()\n",
    "    robot.draw(fig, ax)\n",
    "    \n",
    "    # MAIN LOOP\n",
    "    for step in range(1,num_steps+1):\n",
    "        \n",
    "        # Check if the robot has to move in straight line or also has to turn\n",
    "        # and accordingly set the third component (rotation) of the motion command \n",
    "        if not None:\n",
    "            u[2] = None \n",
    "        else:\n",
    "            u[2] = None\n",
    "             \n",
    "        # Execute the motion command        \n",
    "        robot.step(u)\n",
    "        \n",
    "        # VISUALIZATION        \n",
    "        robot.draw(fig, ax)        \n",
    "        clear_output(wait=True)\n",
    "        display(fig)        \n",
    "        time.sleep(0.1)\n",
    "        \n",
    "    plt.close()"
   ]
  },
  {
   "cell_type": "markdown",
   "metadata": {},
   "source": [
    "Execute the following code cell to **try your code**. The resulting figure must be the same as Fig. 2."
   ]
  },
  {
   "cell_type": "code",
   "execution_count": null,
   "metadata": {},
   "outputs": [],
   "source": [
    "# RUN \n",
    "initial_pose = np.vstack([0., 0., np.pi/2])\n",
    "robot = Robot(initial_pose)\n",
    "main(robot)"
   ]
  },
  {
   "cell_type": "markdown",
   "metadata": {},
   "source": [
    "## 3.2 Considering noise\n",
    "\n",
    "In the previous case, the robot motion was error-free. This is overly optimistic as in a real use case the conditions of the environment and the motion itselft are a huge source of uncertainty.\n",
    "\n",
    "To take into consideration such uncertainty, we will model the movement of the robot as a (multidimensional) gaussian distribution $\\Delta p \\sim N(\\mu_{\\Delta p},\\Sigma_{\\Delta p})$ where:\n",
    "\n",
    "- The mean $\\mu_{\\Delta p}$ is still the pose differential in the previous exercise, that is $\\Delta p_{\\text{given}}$.\n",
    "- The covariance $\\Sigma_{\\Delta p}$ is a $3 \\times 3$ matrix, which defines the amount of error at each step (time interval). It looks like this:\n",
    "$$ \n",
    "\\Sigma_{\\Delta p}  =\n",
    "        \\begin{bmatrix}\n",
    "            \\sigma_x^2 & 0 & 0 \\\\\n",
    "            0 & \\sigma_y^2 & 0 \\\\\n",
    "            0 & 0 & \\sigma_\\theta^2\n",
    "        \\end{bmatrix}\n",
    "        $$\n",
    "\n",
    "To gain insight into the covariance matrix, let's suppose that we've commanded Giraff to move two meters forward, one to the left, and turns pi/2 to the left a total of twenty times, and we've measured its final position. This is the result: "
   ]
  },
  {
   "cell_type": "code",
   "execution_count": null,
   "metadata": {},
   "outputs": [],
   "source": [
    "# Array of motion measurements [x_i,y_i,theta_i]\n",
    "data = np.array([\n",
    "    [1.9272377,  0.61826959, 1.56767043],\n",
    "    [2.32512511, 1.00742,    1.5908133],\n",
    "    [2.18640042, 0.98655067, 1.68010124],\n",
    "    [1.98890723, 0.96641266, 1.5478623],\n",
    "    [2.0729443,  0.82685635, 1.67115959],\n",
    "    [1.975565,   1.20433306, 1.62406736],\n",
    "    [1.88160001, 1.17310891, 1.54204513],\n",
    "    [2.21991591, 0.92045473, 1.55294863],\n",
    "    [1.79006882, 0.97170525, 1.60347324],\n",
    "    [2.13932179, 1.17665025, 1.57022972],\n",
    "    [1.89099453, 0.86546558, 1.52364342],\n",
    "    [1.78903666, 0.93264142, 1.60133537],\n",
    "    [2.05418773, 1.34436849, 1.58577607],\n",
    "    [2.12027142, 1.15626879, 1.5552685],\n",
    "    [2.04842395, 1.22015604, 1.58246969],\n",
    "    [2.00209448, 0.77744971, 1.55656092],\n",
    "    [2.06276761, 0.88401541, 1.62989382],\n",
    "    [1.70384096, 1.12819609, 1.61440142],\n",
    "    [1.84918712, 1.26022099, 1.50058668],\n",
    "    [2.02138316, 1.12614774, 1.52156016]\n",
    "])"
   ]
  },
  {
   "cell_type": "markdown",
   "metadata": {},
   "source": [
    "### **<span style=\"color:green\"><b><i>ASSIGNMENT 2: Calculating the covariance matrix</i></b></span>**\n",
    "\n",
    "Complete the following code to compute the covariance matrix characterizing the motion uncertainty of the Giraff robot. Ask yourself what the values in the diagonal mean, and what happens if they increase/decrease.\n",
    "\n",
    "*Hints: `np.var()`, `np.diag()`*"
   ]
  },
  {
   "cell_type": "code",
   "execution_count": null,
   "metadata": {},
   "outputs": [],
   "source": [
    "# Compute the covariance matrix (since there is no correlation, we only compute variances)\n",
    "cov_x = None\n",
    "cov_y = None\n",
    "cov_theta = None\n",
    "\n",
    "# Form the diagonal covariance matrix\n",
    "covariance_matrix = None\n",
    "\n",
    "# PRINT COVARIANCE MATRIX\n",
    "print(\"Covariance matrix:\")\n",
    "print(covariance_matrix)\n",
    "\n",
    "# VISUALIZATION\n",
    "fig, ax = plt.subplots()\n",
    "plt.xlim((1.5, 2.5))\n",
    "plt.ylim((0, 2))\n",
    "plt.grid('on')\n",
    "# Commanded pose\n",
    "DrawRobot(fig, ax, np.vstack([2, 1, np.pi/2]), color='blue')\n",
    "# Noisy poses\n",
    "for pose in data:\n",
    "    DrawRobot(fig, ax, np.vstack([pose[0],pose[1],pose[2]]))\n",
    "plt.xlabel('X position')\n",
    "plt.ylabel('Y position')\n",
    "plt.title('Noisy Pose Measurements')\n",
    "plt.show()"
   ]
  },
  {
   "cell_type": "markdown",
   "metadata": {},
   "source": [
    "<span style=\"color:blue\">Expected results:</span>\n",
    "\n",
    "```\n",
    "Covariance matrix:\n",
    "[[0.02342594 0.         0.        ]\n",
    " [0.         0.03246639 0.        ]\n",
    " [0.         0.         0.00212976]]\n",
    "```"
   ]
  },
  {
   "cell_type": "markdown",
   "metadata": {},
   "source": [
    "### **<span style=\"color:green\"><b><i>ASSIGNMENT 3: Adding noise to the pose motion</i></b></span>**\n",
    "\n",
    "Now, we are going to add a Gaussian noise to the motion, assuming that the incremental motion now follows the probability distribution:\n",
    "\n",
    "$$\n",
    "    \\Delta p = N(\\Delta p_{given}, \\Sigma_{\\Delta p})\n",
    "    \\textit{ with } \n",
    "    \\Sigma_{\\Delta p}  =\n",
    "        \\begin{bmatrix}\n",
    "            0.04 & 0 & 0 \\\\\n",
    "            0 & 0.04 & 0 \\\\\n",
    "            0 & 0 & 0.01\n",
    "        \\end{bmatrix}\n",
    "    (\\text{ units in }m^2 \\text{ and } rad^2)\n",
    "$$\n",
    "\n",
    "For doing that, complete the `NoisyRobot()` class below, which is a child class of the previous `Robot()` one. Concretely, you have to:\n",
    "\n",
    "- Complete this new class by adding some amount of noise to the movement (take a look at the `step()` method. *Hints: [`np.vstack()`](https://docs.scipy.org/doc/numpy/reference/generated/numpy.vstack.html), [`stats.multivariate_normal.rvs()`](https://docs.scipy.org/doc/scipy/reference/generated/scipy.stats.multivariate_normal.html)*. \n",
    "- Remark that we have now two variables related to the robot pose:\n",
    "  - `self.pose`, which represents the expected, *ideal* pose, and\n",
    "  - `self.true_pose`, that stands for the actual pose after carrying out a noisy motion command.\n",
    "- Along with the expected pose drawn in red (`self.pose`), in the `draw()` method plot the real pose of the robot (`self.true_pose`) in blue, which as commented is affected by noise. \n",
    "\n",
    "Run the cell several times to see that the motion (and the path) is different each time. Try also with different values of the covariance matrix.\n",
    "\n",
    "**Example**\n",
    "\n",
    "<figure style=\"text-align:center\">\n",
    "  <img src=\"images/fig3-1-2.png\" alt=\"\">\n",
    "  <figcaption>Fig. 3: Movement of our robot using pose compositions. <br/>\n",
    "      Containing the expected poses (in red) and the true pose <br/> affected by noise (in blue)</figcaption>\n",
    "</figure>"
   ]
  },
  {
   "cell_type": "code",
   "execution_count": null,
   "metadata": {},
   "outputs": [],
   "source": [
    "class NoisyRobot(Robot):\n",
    "    \"\"\"Mobile robot implementation. It's motion has a set ammount of noise.\n",
    "    \n",
    "        Attr:\n",
    "            pose: Inherited from Robot\n",
    "            true_pose: Real robot pose, which has been affected by some ammount of noise.\n",
    "            covariance: Amount of error of each step.\n",
    "    \"\"\"\n",
    "    def __init__(self, mean, covariance):\n",
    "        super().__init__(mean)\n",
    "        self.true_pose = mean\n",
    "        self.covariance = covariance\n",
    "        \n",
    "    def step(self, step_increment):\n",
    "        \"\"\"Computes a single step of our noisy robot.\n",
    "        \n",
    "            super().step(...) updates the expected pose (without noise)\n",
    "            Generate a noisy increment based on step_increment and self.covariance.\n",
    "            Then this noisy increment is applied to self.true_pose\n",
    "        \"\"\"\n",
    "        super().step(step_increment)\n",
    "        true_step = None\n",
    "        self.true_pose = tcomp(None, None)\n",
    "        \n",
    "    def draw(self, fig, ax):\n",
    "        super().draw(fig, ax)\n",
    "        DrawRobot(fig, ax, None, None)"
   ]
  },
  {
   "cell_type": "code",
   "execution_count": null,
   "metadata": {},
   "outputs": [],
   "source": [
    "# RUN \n",
    "initial_pose = np.vstack([0., 0., np.pi/2])\n",
    "cov = np.diag([0.04, 0.04, 0.01])  \n",
    "\n",
    "robot = NoisyRobot(initial_pose, cov)\n",
    "main(robot)"
   ]
  },
  {
   "cell_type": "markdown",
   "metadata": {},
   "source": [
    "### <font color=\"blue\"><b><i>Thinking about it (1)</i></b></font>\n",
    "\n",
    "Now that you are an expert in retrieving the pose of a robot after carrying out a motion command defined as a pose increment, **answer the following questions**:\n",
    "\n",
    "- Why are the expected (red) and true (blue) poses different?\n",
    "\n",
    "    <p style=\"margin: 4px 0px 6px 5px; color:blue\"><i>Your answer here!</i></p>\n",
    "\n",
    "- In which scenario could they be the same?\n",
    "\n",
    "    <p style=\"margin: 4px 0px 6px 5px; color:blue\"><i>Your answer here!</i></p>\n",
    "    \n",
    "- How affect the values in the covariance matrix $\\Sigma_{\\Delta p}$ the robot motion?\n",
    "\n",
    "    <p style=\"margin: 4px 0px 6px 5px; color:blue\"><i>Your answer here!</i></p>"
   ]
  },
  {
   "cell_type": "markdown",
   "metadata": {},
   "source": [
    "## <font color=\"orange\"><b><i>AI Appendix</i></b></font>\n",
    "\n",
    "### A.1 How I used AI\n",
    "- **Model/tool:**\n",
    "  <p style=\"margin: 4px 0px 6px 5px; color:blue\"><i>Your answer here!</i></p>\n",
    "- **What I asked AI to help with (bullets):**\n",
    "  <p style=\"margin: 4px 0px 6px 5px; color:blue\"><i>Your answer here!</i></p>\n",
    "- **Best prompt I used (paste):**\n",
    "  <p style=\"margin: 4px 0px 6px 5px; color:blue\"><i>Your answer here!</i></p>\n",
    "- **What I kept vs. changed from the AI output:**\n",
    "  <p style=\"margin: 4px 0px 6px 5px; color:blue\"><i>Your answer here!</i></p>\n",
    "\n",
    "### A.2 AI review \n",
    "Ask one generative AI to review your memo using this prompt:\n",
    "\n",
    "```\n",
    "Act as a technical reviewer of this robotics notebook. Read my memo and return exactly 5 bullet points:\n",
    "\n",
    "- two on theory (key ideas),\n",
    "- two on practice (relevant programming concepts of python used, not particular functions or variables),\n",
    "- one on how to improve the code (most critical aspect: limitations, parameter choices, runtime/robustness, possible bugs).\n",
    "\n",
    "Keep each bullet ≤15 words and make them specific to my work.\n",
    "```\n",
    "\n",
    "Paste its **5** items here:\n",
    "\n",
    "- **(Theory 1)** AI claim:\n",
    "  <p style=\"margin: 4px 0px 6px 5px; color:blue\"><i>Your answer here!</i></p>\n",
    "- **(Theory 2)** AI claim:\n",
    "  <p style=\"margin: 4px 0px 6px 5px; color:blue\"><i>Your answer here!</i></p>\n",
    "- **(Practice 1)** AI claim:\n",
    "  <p style=\"margin: 4px 0px 6px 5px; color:blue\"><i>Your answer here!</i></p>\n",
    "- **(Practice 2)** AI claim:\n",
    "  <p style=\"margin: 4px 0px 6px 5px; color:blue\"><i>Your answer here!</i></p>\n",
    "- **(Improvement)** AI claim:\n",
    "  <p style=\"margin: 4px 0px 6px 5px; color:blue\"><i>Your answer here!</i></p>\n",
    "\n",
    "Finally, **do you agree with them?**, **would you have selected others?** \n",
    "    <p style=\"margin: 4px 0px 6px 5px; color:blue\"><i>Your answer here!</i></p>"
   ]
  }
 ],
 "metadata": {
  "kernelspec": {
   "display_name": "env",
   "language": "python",
   "name": "python3"
  },
  "language_info": {
   "codemirror_mode": {
    "name": "ipython",
    "version": 3
   },
   "file_extension": ".py",
   "mimetype": "text/x-python",
   "name": "python",
   "nbconvert_exporter": "python",
   "pygments_lexer": "ipython3",
   "version": "3.10.18"
  }
 },
 "nbformat": 4,
 "nbformat_minor": 4
}
